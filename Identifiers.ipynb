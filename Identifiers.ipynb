{
 "cells": [
  {
   "cell_type": "markdown",
   "id": "5efd181d",
   "metadata": {},
   "source": [
    "# Check the valid Identifiers and invalid identifers using Python"
   ]
  },
  {
   "cell_type": "markdown",
   "id": "aebe5a40",
   "metadata": {},
   "source": [
    "1. **Run all the identifiers and seprate valid and Invalid Identifiers?**\n",
    "\n",
    "2. **Why Python treating them as invalid Identifers.Explain?**"
   ]
  },
  {
   "cell_type": "markdown",
   "id": "77c112d3",
   "metadata": {},
   "source": [
    "* my_variable = 25\n",
    "\n",
    "**valid\n",
    "\n",
    "\n",
    "* counter = 40.7\n",
    "\n",
    "**valid\n",
    "\n",
    "\n",
    "* _total = \"Hello\"\n",
    "\n",
    "**valid\n",
    "\n",
    "\n",
    " - 123abc   = 34     \n",
    " \n",
    " **invalid -- started with number\n",
    " \n",
    " - my variable   =6.7\n",
    " \n",
    " **invalid -- space\n",
    " \n",
    " - @count  = \"hi\"  \n",
    "\n",
    " **invalid -- symbol\n",
    " \n",
    " - for   = \"True\"\n",
    " \n",
    " **invalid - keyword\n",
    " \n",
    "\n",
    "* Name123 = 136\n",
    "\n",
    "**valid\n",
    "\n",
    "* myFunction = True\n",
    "\n",
    "**valid\n",
    "\n",
    "* _data = False\n",
    "\n",
    "**valid\n",
    "\n",
    "- if_condition? = \"Innomatics\"\n",
    "\n",
    "**invalid - due to symbol\n",
    "- class = \"Hyderabad\"\n",
    "\n",
    "**invalid - keyword"
   ]
  },
  {
   "cell_type": "markdown",
   "id": "35c32a6f",
   "metadata": {},
   "source": [
    "### Use different identifiers and assign the below values"
   ]
  },
  {
   "cell_type": "markdown",
   "id": "d606e5ac",
   "metadata": {},
   "source": [
    "10\n",
    "\n",
    "-5\n",
    "\n",
    "3.14159\n",
    "\n",
    "-0.12345\n",
    "\n",
    "1000\n",
    "\n",
    "\"Hello, World!\"\n",
    "\n",
    "\"Python\"\n",
    "\n",
    "\"I am learning\"\n",
    "\n",
    "\"Text type\"\n",
    "\n",
    "\"String\"\n",
    "\n",
    "True\n",
    "\n",
    "False\n",
    "\n",
    "True\n",
    "\n",
    "False\n",
    "\n",
    "True\n",
    "\n"
   ]
  },
  {
   "cell_type": "code",
   "execution_count": 3,
   "id": "a8ce7a79",
   "metadata": {},
   "outputs": [],
   "source": [
    "age = 10"
   ]
  },
  {
   "cell_type": "code",
   "execution_count": 5,
   "id": "f1fb744a",
   "metadata": {},
   "outputs": [
    {
     "name": "stdout",
     "output_type": "stream",
     "text": [
      "10\n"
     ]
    }
   ],
   "source": [
    "print(age)"
   ]
  },
  {
   "cell_type": "code",
   "execution_count": 6,
   "id": "ffd2a770",
   "metadata": {},
   "outputs": [],
   "source": [
    "value = -5"
   ]
  },
  {
   "cell_type": "code",
   "execution_count": 7,
   "id": "255d4180",
   "metadata": {},
   "outputs": [
    {
     "data": {
      "text/plain": [
       "int"
      ]
     },
     "execution_count": 7,
     "metadata": {},
     "output_type": "execute_result"
    }
   ],
   "source": [
    "type(value)"
   ]
  },
  {
   "cell_type": "code",
   "execution_count": 8,
   "id": "450f877a",
   "metadata": {},
   "outputs": [],
   "source": [
    "a = 3.14159"
   ]
  },
  {
   "cell_type": "code",
   "execution_count": 9,
   "id": "26a12c4b",
   "metadata": {},
   "outputs": [
    {
     "name": "stdout",
     "output_type": "stream",
     "text": [
      "3.14159\n"
     ]
    }
   ],
   "source": [
    "print(a)"
   ]
  },
  {
   "cell_type": "code",
   "execution_count": 10,
   "id": "d81d082b",
   "metadata": {},
   "outputs": [
    {
     "data": {
      "text/plain": [
       "2508503330416"
      ]
     },
     "execution_count": 10,
     "metadata": {},
     "output_type": "execute_result"
    }
   ],
   "source": [
    "id(a)"
   ]
  },
  {
   "cell_type": "code",
   "execution_count": 11,
   "id": "210ff05d",
   "metadata": {},
   "outputs": [],
   "source": [
    "b = -0.12345 "
   ]
  },
  {
   "cell_type": "code",
   "execution_count": 12,
   "id": "10419cb9",
   "metadata": {},
   "outputs": [
    {
     "data": {
      "text/plain": [
       "-0.12345"
      ]
     },
     "execution_count": 12,
     "metadata": {},
     "output_type": "execute_result"
    }
   ],
   "source": [
    "b.conjugate()"
   ]
  },
  {
   "cell_type": "code",
   "execution_count": 13,
   "id": "2f5cd00e",
   "metadata": {},
   "outputs": [],
   "source": [
    "a = 1000"
   ]
  },
  {
   "cell_type": "code",
   "execution_count": 14,
   "id": "ae1b878a",
   "metadata": {},
   "outputs": [
    {
     "data": {
      "text/plain": [
       "int"
      ]
     },
     "execution_count": 14,
     "metadata": {},
     "output_type": "execute_result"
    }
   ],
   "source": [
    "type(a)"
   ]
  },
  {
   "cell_type": "code",
   "execution_count": 15,
   "id": "5386f1cb",
   "metadata": {},
   "outputs": [],
   "source": [
    "string = \"Hello, World!\""
   ]
  },
  {
   "cell_type": "code",
   "execution_count": 16,
   "id": "c3f1f030",
   "metadata": {},
   "outputs": [],
   "source": [
    "string2 = \"Python\""
   ]
  },
  {
   "cell_type": "code",
   "execution_count": 17,
   "id": "de10ceac",
   "metadata": {},
   "outputs": [
    {
     "data": {
      "text/plain": [
       "str"
      ]
     },
     "execution_count": 17,
     "metadata": {},
     "output_type": "execute_result"
    }
   ],
   "source": [
    "type(string2)"
   ]
  },
  {
   "cell_type": "code",
   "execution_count": 18,
   "id": "6996319a",
   "metadata": {},
   "outputs": [],
   "source": [
    "string3 = \"I am learning\""
   ]
  },
  {
   "cell_type": "code",
   "execution_count": 19,
   "id": "6264409a",
   "metadata": {},
   "outputs": [],
   "source": [
    "string4 = \"Text type\""
   ]
  },
  {
   "cell_type": "code",
   "execution_count": 20,
   "id": "6cd4bc81",
   "metadata": {},
   "outputs": [],
   "source": [
    "string5 = \"String\""
   ]
  },
  {
   "cell_type": "code",
   "execution_count": 21,
   "id": "0b618a09",
   "metadata": {},
   "outputs": [],
   "source": [
    "a = True"
   ]
  },
  {
   "cell_type": "code",
   "execution_count": 22,
   "id": "32ab19c2",
   "metadata": {},
   "outputs": [
    {
     "data": {
      "text/plain": [
       "True"
      ]
     },
     "execution_count": 22,
     "metadata": {},
     "output_type": "execute_result"
    }
   ],
   "source": [
    "a"
   ]
  },
  {
   "cell_type": "code",
   "execution_count": 23,
   "id": "68a32ba5",
   "metadata": {},
   "outputs": [],
   "source": [
    "b = False"
   ]
  },
  {
   "cell_type": "code",
   "execution_count": 24,
   "id": "354ae00b",
   "metadata": {},
   "outputs": [
    {
     "data": {
      "text/plain": [
       "False"
      ]
     },
     "execution_count": 24,
     "metadata": {},
     "output_type": "execute_result"
    }
   ],
   "source": [
    "b"
   ]
  },
  {
   "cell_type": "code",
   "execution_count": 25,
   "id": "fcc634cc",
   "metadata": {},
   "outputs": [],
   "source": [
    "c = True"
   ]
  },
  {
   "cell_type": "code",
   "execution_count": 26,
   "id": "525343e0",
   "metadata": {},
   "outputs": [
    {
     "data": {
      "text/plain": [
       "True"
      ]
     },
     "execution_count": 26,
     "metadata": {},
     "output_type": "execute_result"
    }
   ],
   "source": [
    "c"
   ]
  },
  {
   "cell_type": "code",
   "execution_count": 27,
   "id": "df5bd0a9",
   "metadata": {},
   "outputs": [],
   "source": [
    "D = False"
   ]
  },
  {
   "cell_type": "code",
   "execution_count": 29,
   "id": "2792be6f",
   "metadata": {},
   "outputs": [
    {
     "data": {
      "text/plain": [
       "False"
      ]
     },
     "execution_count": 29,
     "metadata": {},
     "output_type": "execute_result"
    }
   ],
   "source": [
    "D"
   ]
  },
  {
   "cell_type": "code",
   "execution_count": 30,
   "id": "7bca75cf",
   "metadata": {},
   "outputs": [],
   "source": [
    "E = True"
   ]
  },
  {
   "cell_type": "code",
   "execution_count": 31,
   "id": "332aeee4",
   "metadata": {},
   "outputs": [
    {
     "data": {
      "text/plain": [
       "True"
      ]
     },
     "execution_count": 31,
     "metadata": {},
     "output_type": "execute_result"
    }
   ],
   "source": [
    "E"
   ]
  },
  {
   "cell_type": "code",
   "execution_count": null,
   "id": "374b50ac",
   "metadata": {},
   "outputs": [],
   "source": []
  }
 ],
 "metadata": {
  "kernelspec": {
   "display_name": "Python 3 (ipykernel)",
   "language": "python",
   "name": "python3"
  },
  "language_info": {
   "codemirror_mode": {
    "name": "ipython",
    "version": 3
   },
   "file_extension": ".py",
   "mimetype": "text/x-python",
   "name": "python",
   "nbconvert_exporter": "python",
   "pygments_lexer": "ipython3",
   "version": "3.11.4"
  }
 },
 "nbformat": 4,
 "nbformat_minor": 5
}

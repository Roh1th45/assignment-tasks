{
 "cells": [
  {
   "cell_type": "markdown",
   "id": "89ffda57",
   "metadata": {},
   "source": [
    "1. Write a function called \"add_numbers\" that takes two integers as input and returns their sum.\n",
    "\n",
    "2. Write a function called \"multiply_numbers\" that takes two integers as input and returns their product.\n",
    "\n",
    "3. Write a function called \"calculate_average\" that takes a list of numbers as input and returns the average of thosenumbers.\n",
    "\n",
    "4. Write a function called \"is_even\" that takes an integer as input and returns True if the number is even, and False otherwise.\n",
    "\n",
    "5. Write a function called \"reverse_string\" that takes a string as input and returns the reverse of that string.\n",
    "\n",
    "6. Write a function called \"count_vowels\" that takes a string as input and returns the number of vowels (a, e, i, o, u) in that string.\n",
    "\n",
    "7. Write a function called \"find_max\" that takes a list of numbers as input and returns the maximum value in that list.\n",
    "\n",
    "8. Write a function called \"find_min\" that takes a list of numbers as input and returns the minimum value in that list."
   ]
  },
  {
   "cell_type": "code",
   "execution_count": 1,
   "id": "37b9bf9a",
   "metadata": {},
   "outputs": [],
   "source": [
    "def add_numbers(a,b):\n",
    "    print(a+b)"
   ]
  },
  {
   "cell_type": "code",
   "execution_count": 6,
   "id": "29e72ef3",
   "metadata": {},
   "outputs": [
    {
     "name": "stdout",
     "output_type": "stream",
     "text": [
      "12\n"
     ]
    }
   ],
   "source": [
    "add_numbers(6,6)"
   ]
  },
  {
   "cell_type": "code",
   "execution_count": 7,
   "id": "7471ab46",
   "metadata": {},
   "outputs": [
    {
     "name": "stdout",
     "output_type": "stream",
     "text": [
      "36\n"
     ]
    }
   ],
   "source": [
    "def multiply_numbers(x,y):\n",
    "    print(x*y)\n",
    "multiply_numbers(6,6)"
   ]
  },
  {
   "cell_type": "code",
   "execution_count": 10,
   "id": "920dc53b",
   "metadata": {},
   "outputs": [],
   "source": [
    "def calculate_average():\n",
    "    x = list([1,2,3,4,5])\n",
    "    average = (sum(x)/len(x))\n",
    "    print(average)\n",
    "    "
   ]
  },
  {
   "cell_type": "code",
   "execution_count": 11,
   "id": "cab82a87",
   "metadata": {},
   "outputs": [
    {
     "name": "stdout",
     "output_type": "stream",
     "text": [
      "3.0\n"
     ]
    }
   ],
   "source": [
    "calculate_average()"
   ]
  },
  {
   "cell_type": "code",
   "execution_count": 13,
   "id": "b0b62730",
   "metadata": {},
   "outputs": [],
   "source": [
    "def is_even():\n",
    "    n=int(input(\"enter a number:\"))\n",
    "    if n%2 == 0:\n",
    "        return \"True\"\n",
    "    else:\n",
    "        return \"False\""
   ]
  },
  {
   "cell_type": "code",
   "execution_count": 14,
   "id": "4639a70b",
   "metadata": {},
   "outputs": [
    {
     "name": "stdout",
     "output_type": "stream",
     "text": [
      "enter a number:6\n"
     ]
    },
    {
     "data": {
      "text/plain": [
       "'True'"
      ]
     },
     "execution_count": 14,
     "metadata": {},
     "output_type": "execute_result"
    }
   ],
   "source": [
    "is_even()"
   ]
  },
  {
   "cell_type": "code",
   "execution_count": 21,
   "id": "4d4afac3",
   "metadata": {},
   "outputs": [],
   "source": [
    "def reverse_string():\n",
    "    s=input('enter:')\n",
    "    print(s[::-1])\n",
    "    "
   ]
  },
  {
   "cell_type": "code",
   "execution_count": 24,
   "id": "b249311a",
   "metadata": {},
   "outputs": [
    {
     "name": "stdout",
     "output_type": "stream",
     "text": [
      "enter:hai\n",
      "iah\n"
     ]
    }
   ],
   "source": [
    "reverse_string()"
   ]
  },
  {
   "cell_type": "code",
   "execution_count": 35,
   "id": "c2834eb3",
   "metadata": {},
   "outputs": [],
   "source": [
    "def count_vowels():\n",
    "    cv=input(\"enter a string:\")\n",
    "    vowels = ('a','i','e','o','u')\n",
    "    ov=0\n",
    "    for i in cv:\n",
    "        if i in vowels:\n",
    "            ov=ov+1\n",
    "    print(\"no of vowels\",ov)\n"
   ]
  },
  {
   "cell_type": "code",
   "execution_count": 36,
   "id": "50b5094a",
   "metadata": {},
   "outputs": [
    {
     "name": "stdout",
     "output_type": "stream",
     "text": [
      "enter a string:rohith\n",
      "no of vowels 2\n"
     ]
    }
   ],
   "source": [
    "count_vowels()"
   ]
  },
  {
   "cell_type": "code",
   "execution_count": 51,
   "id": "6e1312f0",
   "metadata": {},
   "outputs": [],
   "source": [
    "def find_max():\n",
    "    num=[1,4,2,565,23,23356,7677]\n",
    "    print(max(num))\n",
    "    "
   ]
  },
  {
   "cell_type": "code",
   "execution_count": 52,
   "id": "a8317cc0",
   "metadata": {},
   "outputs": [
    {
     "name": "stdout",
     "output_type": "stream",
     "text": [
      "23356\n"
     ]
    }
   ],
   "source": [
    "find_max()"
   ]
  },
  {
   "cell_type": "code",
   "execution_count": 53,
   "id": "14b0da34",
   "metadata": {},
   "outputs": [],
   "source": [
    "def find_min():\n",
    "    num=[23,45,67,89,1101]\n",
    "    print(min(num))"
   ]
  },
  {
   "cell_type": "code",
   "execution_count": 54,
   "id": "4a36ac70",
   "metadata": {},
   "outputs": [
    {
     "name": "stdout",
     "output_type": "stream",
     "text": [
      "23\n"
     ]
    }
   ],
   "source": [
    "find_min()"
   ]
  },
  {
   "cell_type": "code",
   "execution_count": null,
   "id": "9e9f7fd6",
   "metadata": {},
   "outputs": [],
   "source": []
  }
 ],
 "metadata": {
  "kernelspec": {
   "display_name": "Python 3 (ipykernel)",
   "language": "python",
   "name": "python3"
  },
  "language_info": {
   "codemirror_mode": {
    "name": "ipython",
    "version": 3
   },
   "file_extension": ".py",
   "mimetype": "text/x-python",
   "name": "python",
   "nbconvert_exporter": "python",
   "pygments_lexer": "ipython3",
   "version": "3.11.4"
  }
 },
 "nbformat": 4,
 "nbformat_minor": 5
}
